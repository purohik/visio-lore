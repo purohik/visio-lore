{
 "cells": [
  {
   "cell_type": "code",
   "execution_count": 9,
   "id": "411ea576-e904-472b-a99c-a4abb981f725",
   "metadata": {},
   "outputs": [],
   "source": [
    "import logging, os\n",
    "logging.disable(logging.WARNING)\n",
    "os.environ[\"TF_CPP_MIN_LOG_LEVEL\"] = \"3\"\n",
    "import tensorflow as tf\n",
    "import numpy as np\n",
    "from tensorflow import keras\n",
    "import matplotlib.pyplot as plt"
   ]
  },
  {
   "cell_type": "code",
   "execution_count": 10,
   "id": "d66e97e2",
   "metadata": {},
   "outputs": [],
   "source": [
    "ENCODING_DICT = {\n",
    "            'a': 0,\n",
    "            'f': 1,\n",
    "            'e': 2,\n",
    "            'c': 3,\n",
    "            'b': 4,\n",
    "            'h': 5,\n",
    "            'v': 6,\n",
    "            'z': 7,\n",
    "            '2': 8,\n",
    "            'x': 9,\n",
    "            'g': 10,\n",
    "            'm': 11,\n",
    "            'r': 12,\n",
    "            'u': 13,\n",
    "            'p': 14,\n",
    "            's': 15,\n",
    "            'd': 16,\n",
    "            'n': 17,\n",
    "            '6': 18,\n",
    "            'k': 19,\n",
    "            't': 20\n",
    "            }\n",
    "\n",
    "DECODING_DICT = {\n",
    "            0: 'a',\n",
    "            1: 'f',\n",
    "            2: 'e',\n",
    "            3: 'c',\n",
    "            4: 'b',\n",
    "            5: 'h',\n",
    "            6: 'v',\n",
    "            7: 'z',\n",
    "            8: '2',\n",
    "            9: 'x',\n",
    "            10: 'g',\n",
    "            11: 'm',\n",
    "            12: 'r',\n",
    "            13: 'u',\n",
    "            14: 'p',\n",
    "            15: 's',\n",
    "            16: 'd',\n",
    "            17: 'n',\n",
    "            18: '6',\n",
    "            19: 'k',\n",
    "            20: 't'\n",
    "            }"
   ]
  },
  {
   "cell_type": "code",
   "execution_count": 11,
   "id": "d836ad46-0f92-45c1-a468-f99e38a468ef",
   "metadata": {},
   "outputs": [],
   "source": [
    "def imagepath_to_captcha(imagepath):\n",
    "    return imagepath.split(\"_\")[1].split(\".\")[0]\n",
    "\n",
    "def to_onehot(captcha):\n",
    "    label = np.zeros((len(captcha), len(ENCODING_DICT)))\n",
    "    for index, char in enumerate(captcha):\n",
    "        label[index, ENCODING_DICT[char]] = 1\n",
    "    return tf.convert_to_tensor(label, tf.float32)\n",
    "    # return tf.reshape(tf.convert_to_tensor(label, tf.float32), [-1])\n",
    "\n",
    "def captcha_from_onehot(tensor):\n",
    "    label = []\n",
    "    for index in tf.argmax(tensor, 1).numpy():\n",
    "        label.append(DECODING_DICT[index])\n",
    "    return \"\".join(label)\n",
    "\n",
    "def load_dataset(filepath):\n",
    "    filenames = os.listdir(filepath)\n",
    "    x, y = [], []\n",
    "    for file in filenames:\n",
    "        imagepath = filepath + \"/\" + file\n",
    "        image = tf.io.read_file(imagepath)\n",
    "        image = tf.image.decode_image(image)\n",
    "        pixels = tf.image.convert_image_dtype(image, tf.float32)\n",
    "        # To show images: \n",
    "        # plt.imshow(tf.reshape(pixels, image.shape))\n",
    "        # plt.title('Image as Pixels')\n",
    "        # plt.show()\n",
    "        x.append(pixels)\n",
    "        captcha = imagepath_to_captcha(file).lower()\n",
    "        y.append(to_onehot(captcha))\n",
    "    return (tf.convert_to_tensor(x, tf.float32), tf.convert_to_tensor(y, tf.float32))\n"
   ]
  },
  {
   "cell_type": "markdown",
   "id": "1d02ee90-266a-4262-aff6-a9990451348c",
   "metadata": {},
   "source": [
    "# Read input data"
   ]
  },
  {
   "cell_type": "code",
   "execution_count": 12,
   "id": "f2e462d9-3196-4738-a861-f30fb904d323",
   "metadata": {},
   "outputs": [
    {
     "name": "stdout",
     "output_type": "stream",
     "text": [
      "Training input shape: (8501, 50, 250, 3)\n",
      "Training output shape: (8501, 6, 21)\n",
      "Testing input shape: (1500, 50, 250, 3)\n",
      "Testing output shape: (1500, 6, 21)\n"
     ]
    }
   ],
   "source": [
    "train_x, train_y = load_dataset(\"dataset/train\")\n",
    "test_x, test_y = load_dataset(\"dataset/test\")\n",
    "\n",
    "print(\"Training input shape:\", train_x.shape)\n",
    "print(\"Training output shape:\", train_y.shape)\n",
    "print(\"Testing input shape:\", test_x.shape)\n",
    "print(\"Testing output shape:\", test_y.shape)"
   ]
  },
  {
   "cell_type": "code",
   "execution_count": 13,
   "id": "986d14cc-b514-4095-9b26-8cc79b9c9a9e",
   "metadata": {},
   "outputs": [
    {
     "name": "stdout",
     "output_type": "stream",
     "text": [
      "Model: \"sequential_1\"\n",
      "_________________________________________________________________\n",
      " Layer (type)                Output Shape              Param #   \n",
      "=================================================================\n",
      " conv2d_2 (Conv2D)           (None, 25, 125, 64)       832       \n",
      "                                                                 \n",
      " average_pooling2d_1 (Avera  (None, 12, 62, 64)        0         \n",
      " gePooling2D)                                                    \n",
      "                                                                 \n",
      " conv2d_3 (Conv2D)           (None, 6, 31, 64)         16448     \n",
      "                                                                 \n",
      " max_pooling2d_1 (MaxPoolin  (None, 3, 15, 64)         0         \n",
      " g2D)                                                            \n",
      "                                                                 \n",
      " flatten_1 (Flatten)         (None, 2880)              0         \n",
      "                                                                 \n",
      " dense_2 (Dense)             (None, 126)               363006    \n",
      "                                                                 \n",
      " dense_3 (Dense)             (None, 126)               16002     \n",
      "                                                                 \n",
      " reshape_1 (Reshape)         (None, 6, 21)             0         \n",
      "                                                                 \n",
      "=================================================================\n",
      "Total params: 396288 (1.51 MB)\n",
      "Trainable params: 396288 (1.51 MB)\n",
      "Non-trainable params: 0 (0.00 Byte)\n",
      "_________________________________________________________________\n"
     ]
    }
   ],
   "source": [
    "model = keras.models.Sequential()\n",
    "\n",
    "model.add(keras.layers.Conv2D(64, (2, 2), \n",
    "                              (2, 2),\n",
    "                            #   kernel_regularizer=keras.regularizers.L2(1e-4), \n",
    "                              activation='relu', input_shape=(50, 250, 3)))\n",
    "model.add(keras.layers.AveragePooling2D(2, 2))\n",
    "# model.add(keras.layers.MaxPooling2D(2, 2))\n",
    "# model.add(keras.layers.BatchNormalization())\n",
    "# model.add(keras.layers.Conv2D(64, (2, 2), activation='sigmoid'))\n",
    "# model.add(keras.layers.MaxPooling2D(2, 2))\n",
    "model.add(keras.layers.Conv2D(64, (2, 2), (2, 2),\n",
    "                              # kernel_regularizer=keras.regularizers.L2(1e-4), \n",
    "                              activation='relu'))\n",
    "model.add(keras.layers.MaxPooling2D(2, 2))\n",
    "\n",
    "model.add(keras.layers.Flatten())\n",
    "# model.add(keras.layers.Dense(8064, activation='relu'))\n",
    "# model.add(keras.layers.Dense(1440, activation='relu'))\n",
    "# model.add(keras.layers.Dense(504, activation=keras.layers.LeakyReLU(alpha=0.1)))\n",
    "# model.add(keras.layers.Dense(504, activation='relu'))\n",
    "# model.add(keras.layers.Dense(units=252,\n",
    "#             kernel_regularizer=keras.regularizers.L2(5 * 1e-4),\n",
    "#             activation='relu'))\n",
    "model.add(keras.layers.Dropout(0.1))\n",
    "model.add(keras.layers.Dense(126, activation='relu'))\n",
    "model.add(keras.layers.Dense(126, activation='softmax'))\n",
    "model.add(keras.layers.Reshape((6, 21)))\n",
    "\n",
    "\n",
    "model.summary()"
   ]
  },
  {
   "cell_type": "code",
   "execution_count": 14,
   "id": "103ff7a5",
   "metadata": {},
   "outputs": [],
   "source": [
    "# ResNet50, how to make this work?\n",
    "# Define input shape\n",
    "# input_shape = (50, 250, 3)\n",
    "\n",
    "# # Custom input layer\n",
    "# input_tensor = keras.layers.Input(shape=input_shape)\n",
    "\n",
    "# # Preprocess the input (optional)\n",
    "# x = keras.applications.resnet50.preprocess_input(input_tensor)\n",
    "\n",
    "\n",
    "# model = keras.applications.resnet50.ResNet50(\n",
    "#     include_top = True,\n",
    "#     weights = 'imagenet',\n",
    "# input_tensor = x)\n",
    "\n",
    "# model.summary()"
   ]
  },
  {
   "cell_type": "code",
   "execution_count": 15,
   "id": "c2b737ab-8b39-4b2f-b5fc-ff12fe6feeea",
   "metadata": {},
   "outputs": [],
   "source": [
    "\n",
    "\n",
    "model.compile(\n",
    "    optimizer = \"adam\",\n",
    "    loss = 'categorical_crossentropy',\n",
    "    metrics=['accuracy']\n",
    ")\n",
    "\n",
    "# graphwiz doesn't install on gLinux ffs.\n",
    "tf.keras.utils.plot_model(model, show_shapes=True)\n"
   ]
  },
  {
   "cell_type": "code",
   "execution_count": 16,
   "id": "f05fd070",
   "metadata": {},
   "outputs": [
    {
     "name": "stdout",
     "output_type": "stream",
     "text": [
      "Epoch 1/10\n",
      "266/266 [==============================] - 15s 52ms/step - loss: 3.0348 - accuracy: 0.0585\n",
      "Epoch 2/10\n",
      "266/266 [==============================] - 13s 50ms/step - loss: 2.5630 - accuracy: 0.2028\n",
      "Epoch 3/10\n",
      "266/266 [==============================] - 13s 49ms/step - loss: 1.9396 - accuracy: 0.3831\n",
      "Epoch 4/10\n",
      "266/266 [==============================] - 14s 53ms/step - loss: 1.5909 - accuracy: 0.4896\n",
      "Epoch 5/10\n",
      "266/266 [==============================] - 14s 52ms/step - loss: 1.3323 - accuracy: 0.5730\n",
      "Epoch 6/10\n",
      "266/266 [==============================] - 13s 50ms/step - loss: 1.1293 - accuracy: 0.6368\n",
      "Epoch 7/10\n",
      "266/266 [==============================] - 14s 51ms/step - loss: 0.9526 - accuracy: 0.6942\n",
      "Epoch 8/10\n",
      "266/266 [==============================] - 13s 49ms/step - loss: 0.8202 - accuracy: 0.7371\n",
      "Epoch 9/10\n",
      "266/266 [==============================] - 13s 49ms/step - loss: 0.7091 - accuracy: 0.7739\n",
      "Epoch 10/10\n",
      "266/266 [==============================] - 13s 49ms/step - loss: 0.6126 - accuracy: 0.8042\n",
      "{'loss': [3.034839630126953, 2.5629847049713135, 1.9395802021026611, 1.590933084487915, 1.3322622776031494, 1.1292996406555176, 0.9526194930076599, 0.8201871514320374, 0.7091434001922607, 0.6125645041465759], 'accuracy': [0.058483317494392395, 0.2027604579925537, 0.3830529749393463, 0.4895894527435303, 0.5729718208312988, 0.6368270516395569, 0.6941732168197632, 0.7370505332946777, 0.77385014295578, 0.8041602969169617]}\n"
     ]
    }
   ],
   "source": [
    "callbacks = [keras.callbacks.EarlyStopping(monitor = 'loss', \n",
    "                                           patience = 2, \n",
    "                                           restore_best_weights = True)]\n",
    "\n",
    "history = model.fit(train_x, train_y,\n",
    "                    epochs = 10,\n",
    "                    batch_size = 32,\n",
    "                    callbacks = callbacks)\n",
    "\n",
    "print(history.history)"
   ]
  },
  {
   "cell_type": "code",
   "execution_count": 17,
   "id": "9d239b9a",
   "metadata": {},
   "outputs": [
    {
     "data": {
      "image/png": "[encoded data removed]",
      "text/plain": [
       "<Figure size 640x480 with 1 Axes>"
      ]
     },
     "metadata": {},
     "output_type": "display_data"
    }
   ],
   "source": [
    "plt.plot(history.history['loss'], label = 'loss')\n",
    "# plt.plot(1 - np.array(history.history['accuracy']), label = 'accuracy')\n",
    "plt.legend()\n",
    "plt.xlabel('epochs')\n",
    "plt.show()"
   ]
  },
  {
   "cell_type": "code",
   "execution_count": 18,
   "id": "3602e777",
   "metadata": {},
   "outputs": [
    {
     "name": "stdout",
     "output_type": "stream",
     "text": [
      "47/47 [==============================] - 1s 14ms/step - loss: 1.3567 - accuracy: 0.6199\n"
     ]
    },
    {
     "data": {
      "text/plain": [
       "[1.3566746711730957, 0.6198889017105103]"
      ]
     },
     "execution_count": 18,
     "metadata": {},
     "output_type": "execute_result"
    }
   ],
   "source": [
    "model.evaluate(test_x, test_y)"
   ]
  }
 ],
 "metadata": {
  "kernelspec": {
   "display_name": "Python 3 (ipykernel)",
   "language": "python",
   "name": "python3"
  },
  "language_info": {
   "codemirror_mode": {
    "name": "ipython",
    "version": 3
   },
   "file_extension": ".py",
   "mimetype": "text/x-python",
   "name": "python",
   "nbconvert_exporter": "python",
   "pygments_lexer": "ipython3",
   "version": "3.10.12"
  }
 },
 "nbformat": 4,
 "nbformat_minor": 5
}
