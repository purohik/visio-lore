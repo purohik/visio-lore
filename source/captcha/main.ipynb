{
 "cells": [
  {
   "cell_type": "code",
   "execution_count": 1,
   "id": "411ea576-e904-472b-a99c-a4abb981f725",
   "metadata": {},
   "outputs": [],
   "source": [
    "import logging, os\n",
    "logging.disable(logging.WARNING)\n",
    "os.environ[\"TF_CPP_MIN_LOG_LEVEL\"] = \"3\"\n",
    "import tensorflow as tf\n",
    "import numpy as np\n",
    "from tensorflow import keras\n",
    "import matplotlib.pyplot as plt"
   ]
  },
  {
   "cell_type": "code",
   "execution_count": 2,
   "id": "d66e97e2",
   "metadata": {},
   "outputs": [],
   "source": [
    "ENCODING_DICT = {\n",
    "            'a': 0,\n",
    "            'f': 1,\n",
    "            'e': 2,\n",
    "            'c': 3,\n",
    "            'b': 4,\n",
    "            'h': 5,\n",
    "            'v': 6,\n",
    "            'z': 7,\n",
    "            '2': 8,\n",
    "            'x': 9,\n",
    "            'g': 10,\n",
    "            'm': 11,\n",
    "            'r': 12,\n",
    "            'u': 13,\n",
    "            'p': 14,\n",
    "            's': 15,\n",
    "            'd': 16,\n",
    "            'n': 17,\n",
    "            '6': 18,\n",
    "            'k': 19,\n",
    "            't': 20\n",
    "            }\n",
    "\n",
    "DECODING_DICT = {\n",
    "            0: 'a',\n",
    "            1: 'f',\n",
    "            2: 'e',\n",
    "            3: 'c',\n",
    "            4: 'b',\n",
    "            5: 'h',\n",
    "            6: 'v',\n",
    "            7: 'z',\n",
    "            8: '2',\n",
    "            9: 'x',\n",
    "            10: 'g',\n",
    "            11: 'm',\n",
    "            12: 'r',\n",
    "            13: 'u',\n",
    "            14: 'p',\n",
    "            15: 's',\n",
    "            16: 'd',\n",
    "            17: 'n',\n",
    "            18: '6',\n",
    "            19: 'k',\n",
    "            20: 't'\n",
    "            }"
   ]
  },
  {
   "cell_type": "code",
   "execution_count": 3,
   "id": "d836ad46-0f92-45c1-a468-f99e38a468ef",
   "metadata": {},
   "outputs": [],
   "source": [
    "def imagepath_to_captcha(imagepath):\n",
    "    return imagepath.split(\"_\")[1].split(\".\")[0]\n",
    "\n",
    "def to_onehot(captcha):\n",
    "    label = np.zeros((len(captcha), len(ENCODING_DICT)))\n",
    "    for index, char in enumerate(captcha):\n",
    "        label[index, ENCODING_DICT[char]] = 1\n",
    "    return tf.convert_to_tensor(label, tf.float32)\n",
    "    # return tf.reshape(tf.convert_to_tensor(label, tf.float32), [-1])\n",
    "\n",
    "def captcha_from_onehot(tensor):\n",
    "    label = []\n",
    "    for index in tf.argmax(tensor, 1).numpy():\n",
    "        label.append(DECODING_DICT[index])\n",
    "    return \"\".join(label)\n",
    "\n",
    "def load_dataset(filepath):\n",
    "    filenames = os.listdir(filepath)\n",
    "    x, y = [], []\n",
    "    for file in filenames:\n",
    "        imagepath = filepath + \"/\" + file\n",
    "        image = tf.io.read_file(imagepath)\n",
    "        image = tf.image.decode_image(image)\n",
    "        pixels = tf.image.convert_image_dtype(image, tf.float32)\n",
    "        # To show images: \n",
    "        # plt.imshow(tf.reshape(pixels, image.shape))\n",
    "        # plt.title('Image as Pixels')\n",
    "        # plt.show()\n",
    "        x.append(pixels)\n",
    "        captcha = imagepath_to_captcha(file).lower()\n",
    "        y.append(to_onehot(captcha))\n",
    "    return (tf.convert_to_tensor(x, tf.float32), tf.convert_to_tensor(y, tf.float32))\n"
   ]
  },
  {
   "cell_type": "markdown",
   "id": "1d02ee90-266a-4262-aff6-a9990451348c",
   "metadata": {},
   "source": [
    "# Read input data"
   ]
  },
  {
   "cell_type": "code",
   "execution_count": 4,
   "id": "f2e462d9-3196-4738-a861-f30fb904d323",
   "metadata": {},
   "outputs": [
    {
     "name": "stdout",
     "output_type": "stream",
     "text": [
      "Training input shape: (8501, 50, 250, 3)\n",
      "Training output shape: (8501, 6, 21)\n",
      "Testing input shape: (1500, 50, 250, 3)\n",
      "Testing output shape: (1500, 6, 21)\n"
     ]
    }
   ],
   "source": [
    "train_x, train_y = load_dataset(\"dataset/train\")\n",
    "test_x, test_y = load_dataset(\"dataset/test\")\n",
    "\n",
    "print(\"Training input shape:\", train_x.shape)\n",
    "print(\"Training output shape:\", train_y.shape)\n",
    "print(\"Testing input shape:\", test_x.shape)\n",
    "print(\"Testing output shape:\", test_y.shape)"
   ]
  },
  {
   "cell_type": "code",
   "execution_count": 73,
   "id": "986d14cc-b514-4095-9b26-8cc79b9c9a9e",
   "metadata": {},
   "outputs": [
    {
     "name": "stdout",
     "output_type": "stream",
     "text": [
      "Model: \"sequential_15\"\n",
      "_________________________________________________________________\n",
      " Layer (type)                Output Shape              Param #   \n",
      "=================================================================\n",
      " conv2d_30 (Conv2D)          (None, 25, 125, 64)       832       \n",
      "                                                                 \n",
      " average_pooling2d_6 (Avera  (None, 12, 62, 64)        0         \n",
      " gePooling2D)                                                    \n",
      "                                                                 \n",
      " conv2d_31 (Conv2D)          (None, 6, 31, 64)         16448     \n",
      "                                                                 \n",
      " max_pooling2d_24 (MaxPooli  (None, 3, 15, 64)         0         \n",
      " ng2D)                                                           \n",
      "                                                                 \n",
      " flatten_15 (Flatten)        (None, 2880)              0         \n",
      "                                                                 \n",
      " dense_51 (Dense)            (None, 126)               363006    \n",
      "                                                                 \n",
      " dense_52 (Dense)            (None, 126)               16002     \n",
      "                                                                 \n",
      " reshape_15 (Reshape)        (None, 6, 21)             0         \n",
      "                                                                 \n",
      "=================================================================\n",
      "Total params: 396288 (1.51 MB)\n",
      "Trainable params: 396288 (1.51 MB)\n",
      "Non-trainable params: 0 (0.00 Byte)\n",
      "_________________________________________________________________\n"
     ]
    }
   ],
   "source": [
    "model = keras.models.Sequential()\n",
    "\n",
    "model.add(keras.layers.Conv2D(64, (2, 2), \n",
    "                              (2, 2),\n",
    "                            #   kernel_regularizer=keras.regularizers.L2(1e-4), \n",
    "                              activation='relu', input_shape=(50, 250, 3)))\n",
    "model.add(keras.layers.AveragePooling2D(2, 2))\n",
    "# model.add(keras.layers.MaxPooling2D(2, 2))\n",
    "# model.add(keras.layers.BatchNormalization())\n",
    "# model.add(keras.layers.Conv2D(64, (2, 2), activation='sigmoid'))\n",
    "# model.add(keras.layers.MaxPooling2D(2, 2))\n",
    "model.add(keras.layers.Conv2D(64, (2, 2), (2, 2),\n",
    "                              # kernel_regularizer=keras.regularizers.L2(1e-4), \n",
    "                              activation='relu'))\n",
    "model.add(keras.layers.MaxPooling2D(2, 2))\n",
    "\n",
    "model.add(keras.layers.Flatten())\n",
    "# model.add(keras.layers.Dense(8064, activation='relu'))\n",
    "# model.add(keras.layers.Dense(1440, activation='relu'))\n",
    "# model.add(keras.layers.Dense(504, activation=keras.layers.LeakyReLU(alpha=0.1)))\n",
    "# model.add(keras.layers.Dense(504, activation='relu'))\n",
    "# model.add(keras.layers.Dense(units=252,\n",
    "#             kernel_regularizer=keras.regularizers.L2(5 * 1e-4),\n",
    "#             activation='relu'))\n",
    "model.add(keras.layers.Dense(126, activation='relu'))\n",
    "model.add(keras.layers.Dense(126, activation='softmax'))\n",
    "model.add(keras.layers.Reshape((6, 21)))\n",
    "\n",
    "\n",
    "model.summary()"
   ]
  },
  {
   "cell_type": "code",
   "execution_count": 6,
   "id": "103ff7a5",
   "metadata": {},
   "outputs": [],
   "source": [
    "# ResNet50, how to make this work?\n",
    "# Define input shape\n",
    "# input_shape = (50, 250, 3)\n",
    "\n",
    "# # Custom input layer\n",
    "# input_tensor = keras.layers.Input(shape=input_shape)\n",
    "\n",
    "# # Preprocess the input (optional)\n",
    "# x = keras.applications.resnet50.preprocess_input(input_tensor)\n",
    "\n",
    "\n",
    "# model = keras.applications.resnet50.ResNet50(\n",
    "#     include_top = True,\n",
    "#     weights = 'imagenet',\n",
    "# input_tensor = x)\n",
    "\n",
    "# model.summary()"
   ]
  },
  {
   "cell_type": "code",
   "execution_count": 74,
   "id": "c2b737ab-8b39-4b2f-b5fc-ff12fe6feeea",
   "metadata": {},
   "outputs": [],
   "source": [
    "\n",
    "\n",
    "model.compile(\n",
    "    optimizer = \"adam\",\n",
    "    loss = 'categorical_crossentropy',\n",
    "    metrics=['accuracy']\n",
    ")\n",
    "\n",
    "# graphwiz doesn't install on gLinux ffs.\n",
    "# tf.keras.utils.plot_model(model, show_shapes=True)\n"
   ]
  },
  {
   "cell_type": "code",
   "execution_count": 75,
   "id": "f05fd070",
   "metadata": {},
   "outputs": [
    {
     "name": "stdout",
     "output_type": "stream",
     "text": [
      "Epoch 1/100\n",
      "266/266 [==============================] - 14s 51ms/step - loss: 3.0318 - accuracy: 0.0590\n",
      "Epoch 2/100\n",
      "266/266 [==============================] - 14s 54ms/step - loss: 2.5360 - accuracy: 0.2112\n",
      "Epoch 3/100\n",
      "266/266 [==============================] - 14s 52ms/step - loss: 1.9562 - accuracy: 0.3740\n",
      "Epoch 4/100\n",
      "266/266 [==============================] - 14s 51ms/step - loss: 1.6106 - accuracy: 0.4822\n",
      "Epoch 5/100\n",
      "266/266 [==============================] - 14s 52ms/step - loss: 1.3650 - accuracy: 0.5591\n",
      "Epoch 6/100\n",
      "266/266 [==============================] - 14s 52ms/step - loss: 1.1624 - accuracy: 0.6249\n",
      "Epoch 7/100\n",
      "266/266 [==============================] - 14s 52ms/step - loss: 1.0021 - accuracy: 0.6736\n",
      "Epoch 8/100\n",
      "266/266 [==============================] - 14s 53ms/step - loss: 0.8645 - accuracy: 0.7180\n",
      "Epoch 9/100\n",
      "266/266 [==============================] - 14s 53ms/step - loss: 0.7579 - accuracy: 0.7518\n",
      "Epoch 10/100\n",
      "266/266 [==============================] - 18s 69ms/step - loss: 0.6673 - accuracy: 0.7838\n",
      "Epoch 11/100\n",
      "266/266 [==============================] - 18s 67ms/step - loss: 0.5934 - accuracy: 0.8057\n",
      "Epoch 12/100\n",
      "266/266 [==============================] - 19s 72ms/step - loss: 0.5262 - accuracy: 0.8290\n",
      "Epoch 13/100\n",
      "266/266 [==============================] - 20s 75ms/step - loss: 0.4616 - accuracy: 0.8525\n",
      "Epoch 14/100\n",
      "266/266 [==============================] - 17s 64ms/step - loss: 0.4169 - accuracy: 0.8640\n",
      "Epoch 15/100\n",
      "266/266 [==============================] - 17s 65ms/step - loss: 0.3744 - accuracy: 0.8784\n",
      "Epoch 16/100\n",
      "266/266 [==============================] - 21s 78ms/step - loss: 0.3421 - accuracy: 0.8893\n",
      "Epoch 17/100\n",
      "266/266 [==============================] - 25s 92ms/step - loss: 0.3008 - accuracy: 0.9049\n",
      "Epoch 18/100\n",
      "266/266 [==============================] - 19s 72ms/step - loss: 0.2689 - accuracy: 0.9149\n",
      "Epoch 19/100\n",
      "266/266 [==============================] - 16s 61ms/step - loss: 0.2456 - accuracy: 0.9208\n",
      "Epoch 20/100\n",
      "266/266 [==============================] - 21s 78ms/step - loss: 0.2255 - accuracy: 0.9296\n",
      "Epoch 21/100\n",
      "266/266 [==============================] - 19s 70ms/step - loss: 0.2005 - accuracy: 0.9381\n",
      "Epoch 22/100\n",
      "266/266 [==============================] - 18s 67ms/step - loss: 0.1801 - accuracy: 0.9453\n",
      "Epoch 23/100\n",
      "266/266 [==============================] - 19s 72ms/step - loss: 0.1625 - accuracy: 0.9504\n",
      "Epoch 24/100\n",
      "266/266 [==============================] - 23s 85ms/step - loss: 0.1508 - accuracy: 0.9548\n",
      "Epoch 25/100\n",
      "266/266 [==============================] - 25s 92ms/step - loss: 0.1514 - accuracy: 0.9538\n",
      "Epoch 26/100\n",
      "266/266 [==============================] - 18s 67ms/step - loss: 0.1393 - accuracy: 0.9567\n",
      "Epoch 27/100\n",
      "266/266 [==============================] - 17s 65ms/step - loss: 0.1287 - accuracy: 0.9595\n",
      "Epoch 28/100\n",
      "266/266 [==============================] - 25s 93ms/step - loss: 0.1130 - accuracy: 0.9656\n",
      "Epoch 29/100\n",
      "266/266 [==============================] - 19s 73ms/step - loss: 0.0958 - accuracy: 0.9723\n",
      "Epoch 30/100\n",
      "266/266 [==============================] - 20s 76ms/step - loss: 0.1013 - accuracy: 0.9688\n",
      "Epoch 31/100\n",
      "266/266 [==============================] - 24s 90ms/step - loss: 0.1027 - accuracy: 0.9679\n",
      "{'loss': [3.0318071842193604, 2.5359628200531006, 1.9561501741409302, 1.6105682849884033, 1.3649625778198242, 1.1623802185058594, 1.0020701885223389, 0.8645126223564148, 0.7579010128974915, 0.6672830581665039, 0.5934150218963623, 0.5261704325675964, 0.4616054892539978, 0.416900634765625, 0.3743826150894165, 0.3420836627483368, 0.3007605969905853, 0.2688831388950348, 0.24564418196678162, 0.2254832237958908, 0.20052334666252136, 0.18009962141513824, 0.16248446702957153, 0.15083281695842743, 0.15144963562488556, 0.13925480842590332, 0.1287274956703186, 0.11300817877054214, 0.09579139947891235, 0.10131417959928513, 0.10268988460302353], 'accuracy': [0.05901266634464264, 0.2112300544977188, 0.37399521470069885, 0.48215895891189575, 0.5590714812278748, 0.6249460577964783, 0.6735678315162659, 0.7180331945419312, 0.7517743110656738, 0.7838293313980103, 0.8056502938270569, 0.8290201425552368, 0.8524683117866516, 0.8640356063842773, 0.8784456849098206, 0.8893267512321472, 0.9049131274223328, 0.91493159532547, 0.9207936525344849, 0.9295573234558105, 0.9380857348442078, 0.9453397393226624, 0.9504371881484985, 0.9548092484474182, 0.9537897706031799, 0.9566717743873596, 0.959494948387146, 0.9656118750572205, 0.9723169803619385, 0.9687879681587219, 0.9679057598114014]}\n"
     ]
    }
   ],
   "source": [
    "callbacks = [keras.callbacks.EarlyStopping(monitor = 'loss', \n",
    "                                           patience = 2, \n",
    "                                           restore_best_weights = True)]\n",
    "\n",
    "history = model.fit(train_x, train_y,\n",
    "                    epochs = 100,\n",
    "                    callbacks = callbacks)\n",
    "\n",
    "print(history.history)"
   ]
  },
  {
   "cell_type": "code",
   "execution_count": 78,
   "id": "9d239b9a",
   "metadata": {},
   "outputs": [
    {
     "data": {
      "image/png": "[encoded data removed]",
      "text/plain": [
       "<Figure size 640x480 with 1 Axes>"
      ]
     },
     "metadata": {},
     "output_type": "display_data"
    }
   ],
   "source": [
    "plt.plot(history.history['loss'], label = 'loss')\n",
    "# plt.plot(1 - np.array(history.history['accuracy']), label = 'accuracy')\n",
    "plt.legend()\n",
    "plt.xlabel('epochs')\n",
    "plt.show()"
   ]
  },
  {
   "cell_type": "code",
   "execution_count": 79,
   "id": "3602e777",
   "metadata": {},
   "outputs": [
    {
     "name": "stdout",
     "output_type": "stream",
     "text": [
      "47/47 [==============================] - 1s 20ms/step - loss: 2.1562 - accuracy: 0.6820\n"
     ]
    },
    {
     "data": {
      "text/plain": [
       "[2.1562283039093018, 0.6819999814033508]"
      ]
     },
     "execution_count": 79,
     "metadata": {},
     "output_type": "execute_result"
    }
   ],
   "source": [
    "model.evaluate(test_x, test_y)"
   ]
  }
 ],
 "metadata": {
  "kernelspec": {
   "display_name": "Python 3 (ipykernel)",
   "language": "python",
   "name": "python3"
  },
  "language_info": {
   "codemirror_mode": {
    "name": "ipython",
    "version": 3
   },
   "file_extension": ".py",
   "mimetype": "text/x-python",
   "name": "python",
   "nbconvert_exporter": "python",
   "pygments_lexer": "ipython3",
   "version": "3.10.12"
  }
 },
 "nbformat": 4,
 "nbformat_minor": 5
}
