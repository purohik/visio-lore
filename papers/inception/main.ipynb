{
  "cells": [
    {
      "cell_type": "markdown",
      "metadata": {
        "id": "SSwjAGT4VtOt"
      },
      "source": [
        "# An implemenation of the inception paper.\n",
        "paper link: https://arxiv.org/abs/1409.4842"
      ]
    },
    {
      "cell_type": "code",
      "execution_count": 1,
      "metadata": {
        "vscode": {
          "languageId": "plaintext"
        },
        "id": "-ECawHutVtOu"
      },
      "outputs": [],
      "source": [
        "import tensorflow as tf"
      ]
    },
    {
      "cell_type": "code",
      "source": [],
      "metadata": {
        "id": "id2zqy8cV0M2"
      },
      "execution_count": null,
      "outputs": []
    }
  ],
  "metadata": {
    "language_info": {
      "name": "python"
    },
    "colab": {
      "provenance": []
    },
    "kernelspec": {
      "name": "python3",
      "display_name": "Python 3"
    }
  },
  "nbformat": 4,
  "nbformat_minor": 0
}